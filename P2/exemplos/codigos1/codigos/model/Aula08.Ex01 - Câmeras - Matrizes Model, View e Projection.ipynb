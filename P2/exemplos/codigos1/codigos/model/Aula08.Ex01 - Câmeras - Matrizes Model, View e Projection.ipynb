{
 "cells": [
  {
   "cell_type": "markdown",
   "metadata": {},
   "source": [
    "# Aula08.Ex01 - Câmeras - Matrizes Model, View e Projection"
   ]
  },
  {
   "cell_type": "markdown",
   "metadata": {},
   "source": [
    "### Primeiro, vamos importar as bibliotecas necessárias."
   ]
  },
  {
   "cell_type": "code",
   "execution_count": 1,
   "metadata": {},
   "outputs": [],
   "source": [
    "import glfw\n",
    "from OpenGL.GL import *\n",
    "import numpy as np\n",
    "import glm\n",
    "import math\n",
    "from numpy import random\n",
    "from PIL import Image\n",
    "\n",
    "from shader_s import Shader"
   ]
  },
  {
   "cell_type": "markdown",
   "metadata": {},
   "source": [
    "### Inicializando janela"
   ]
  },
  {
   "cell_type": "code",
   "execution_count": 2,
   "metadata": {},
   "outputs": [
    {
     "name": "stderr",
     "output_type": "stream",
     "text": [
      "libdecor-gtk-WARNING: Failed to initialize GTK\n",
      "Failed to load plugin 'libdecor-gtk.so': failed to init\n"
     ]
    }
   ],
   "source": [
    "glfw.init()\n",
    "glfw.window_hint(glfw.VISIBLE, glfw.FALSE)\n",
    "\n",
    "altura = 700\n",
    "largura = 700\n",
    "\n",
    "window = glfw.create_window(largura, altura, \"Programa\", None, None)\n",
    "\n",
    "if (window == None):\n",
    "    print(\"Failed to create GLFW window\")\n",
    "    glfwTerminate()\n",
    "    \n",
    "glfw.make_context_current(window)\n",
    "\n"
   ]
  },
  {
   "cell_type": "markdown",
   "metadata": {},
   "source": [
    "### Constroi e compila os shaders. Também \"linka\" eles ao programa\n",
    "\n",
    "#### Novidade aqui: modularização dessa parte do código --- temos agora uma classe e arquivos próprios para os shaders (vs e fs)\n",
    "Créditos: https://learnopengl.com"
   ]
  },
  {
   "cell_type": "code",
   "execution_count": 3,
   "metadata": {},
   "outputs": [],
   "source": [
    "ourShader = Shader(\"vertex_shader.vs\", \"fragment_shader.fs\")\n",
    "ourShader.use()\n",
    "\n",
    "program = ourShader.getProgram()"
   ]
  },
  {
   "cell_type": "markdown",
   "metadata": {},
   "source": [
    "### Preparando dados para enviar a GPU\n",
    "\n",
    "Até aqui, compilamos nossos Shaders para que a GPU possa processá-los.\n",
    "\n",
    "Por outro lado, as informações de vértices geralmente estão na CPU e devem ser transmitidas para a GPU.\n"
   ]
  },
  {
   "cell_type": "markdown",
   "metadata": {},
   "source": [
    "### Modelando um Cubo\n",
    "\n",
    "Existem diferentes formas de modelar um cubo. Nós usaremos uma estratégia baseada no Quadrado com TRIANGLE_STRIP, conforme vimos na Aula04.Ex05. Assim, um quadrado é modelado usando dois triângulos e precisamos de apenas quatro vértices para isso (devido ao TRIANGLE_STRIP).\n",
    "\n",
    "Nós usamos 48 vértices para modelar 2 cubos. Cada cubo usa 6 faces de quatro vértices cada."
   ]
  },
  {
   "cell_type": "code",
   "execution_count": 4,
   "metadata": {
    "scrolled": true
   },
   "outputs": [],
   "source": [
    "# preparando espaço para 48 vértices (dois cubos) usando 3 coordenadas (x,y,z)\n",
    "vertices = np.zeros(48, [(\"position\", np.float32, 3)])\n",
    "\n",
    "# preenchendo as coordenadas de cada vértice\n",
    "vertices['position'] = [\n",
    "    \n",
    "    ### CUBO 1\n",
    "    # Face 1 do Cubo 1 (vértices do quadrado)\n",
    "    (-0.2, -0.2, +0.2),\n",
    "    (+0.2, -0.2, +0.2),\n",
    "    (-0.2, +0.2, +0.2),\n",
    "    (+0.2, +0.2, +0.2),\n",
    "\n",
    "    # Face 2 do Cubo 1\n",
    "    (+0.2, -0.2, +0.2),\n",
    "    (+0.2, -0.2, -0.2),         \n",
    "    (+0.2, +0.2, +0.2),\n",
    "    (+0.2, +0.2, -0.2),\n",
    "    \n",
    "    # Face 3 do Cubo 1\n",
    "    (+0.2, -0.2, -0.2),\n",
    "    (-0.2, -0.2, -0.2),            \n",
    "    (+0.2, +0.2, -0.2),\n",
    "    (-0.2, +0.2, -0.2),\n",
    "\n",
    "    # Face 4 do Cubo 1\n",
    "    (-0.2, -0.2, -0.2),\n",
    "    (-0.2, -0.2, +0.2),         \n",
    "    (-0.2, +0.2, -0.2),\n",
    "    (-0.2, +0.2, +0.2),\n",
    "\n",
    "    # Face 5 do Cubo 1\n",
    "    (-0.2, -0.2, -0.2),\n",
    "    (+0.2, -0.2, -0.2),         \n",
    "    (-0.2, -0.2, +0.2),\n",
    "    (+0.2, -0.2, +0.2),\n",
    "    \n",
    "    # Face 6 do Cubo 1\n",
    "    (-0.2, +0.2, +0.2),\n",
    "    (+0.2, +0.2, +0.2),           \n",
    "    (-0.2, +0.2, -0.2),\n",
    "    (+0.2, +0.2, -0.2),\n",
    "\n",
    "\n",
    "    #### CUBO 2\n",
    "    # Face 1 do Cubo 2 (vértices do quadrado)\n",
    "    (+0.1, +0.1, -0.5),\n",
    "    (+0.5, +0.1, -0.5),\n",
    "    (+0.1, +0.5, -0.5),\n",
    "    (+0.5, +0.5, -0.5),\n",
    "\n",
    "    # Face 2 do Cubo 2\n",
    "    (+0.5, +0.1, -0.5),\n",
    "    (+0.5, +0.1, -0.9),         \n",
    "    (+0.5, +0.5, -0.5),\n",
    "    (+0.5, +0.5, -0.9),\n",
    "    \n",
    "    # Face 3 do Cubo 2\n",
    "    (+0.5, +0.1, -0.9),\n",
    "    (+0.1, +0.1, -0.9),            \n",
    "    (+0.5, +0.5, -0.9),\n",
    "    (+0.1, +0.5, -0.9),\n",
    "\n",
    "    # Face 4 do Cubo 2\n",
    "    (+0.1, +0.1, -0.9),\n",
    "    (+0.1, +0.1, -0.5),         \n",
    "    (+0.1, +0.5, -0.9),\n",
    "    (+0.1, +0.5, -0.5),\n",
    "\n",
    "    # Face 5 do Cubo 2\n",
    "    (+0.1, +0.1, -0.9),\n",
    "    (+0.5, +0.1, -0.9),         \n",
    "    (+0.1, +0.1, -0.5),\n",
    "    (+0.5, +0.1, -0.5),\n",
    "    \n",
    "    # Face 6 do Cubo 2\n",
    "    (+0.1, +0.5, -0.5),\n",
    "    (+0.5, +0.5, -0.5),           \n",
    "    (+0.1, +0.5, -0.9),\n",
    "    (+0.5, +0.5, -0.9)]"
   ]
  },
  {
   "cell_type": "code",
   "execution_count": null,
   "metadata": {},
   "outputs": [],
   "source": []
  },
  {
   "cell_type": "markdown",
   "metadata": {},
   "source": [
    "### Para enviar nossos dados da CPU para a GPU, precisamos requisitar um buffer"
   ]
  },
  {
   "cell_type": "code",
   "execution_count": 5,
   "metadata": {},
   "outputs": [],
   "source": [
    "buffer_VBO = glGenBuffers(1)"
   ]
  },
  {
   "cell_type": "markdown",
   "metadata": {},
   "source": [
    "### Enviando coordenadas de vértices para a GPU\n",
    "\n",
    "Veja os parâmetros da função glBufferData [https://www.khronos.org/registry/OpenGL-Refpages/gl4/html/glBufferData.xhtml]"
   ]
  },
  {
   "cell_type": "code",
   "execution_count": 6,
   "metadata": {},
   "outputs": [],
   "source": [
    "# Upload data\n",
    "glBindBuffer(GL_ARRAY_BUFFER, buffer_VBO)\n",
    "glBufferData(GL_ARRAY_BUFFER, vertices.nbytes, vertices, GL_DYNAMIC_DRAW)\n",
    "stride = vertices.strides[0]\n",
    "offset = ctypes.c_void_p(0)\n",
    "loc_vertices = glGetAttribLocation(program, \"position\")\n",
    "glEnableVertexAttribArray(loc_vertices)\n",
    "glVertexAttribPointer(loc_vertices, 3, GL_FLOAT, False, stride, offset)"
   ]
  },
  {
   "cell_type": "markdown",
   "metadata": {},
   "source": [
    "### Eventos para modificar a posição da câmera.\n",
    "\n",
    "* Usei as teclas A, S, D e W para movimentação no espaço tridimensional\n",
    "* Usei a posição do mouse para \"direcionar\" a câmera"
   ]
  },
  {
   "cell_type": "code",
   "execution_count": 7,
   "metadata": {},
   "outputs": [],
   "source": [
    "cameraPos   = glm.vec3(0.0,  0.0,  1.0);\n",
    "cameraFront = glm.vec3(0.0,  0.0, -1.0);\n",
    "cameraUp    = glm.vec3(0.0,  1.0,  0.0);\n",
    "\n",
    "firstMouse = True\n",
    "yaw   = -90.0\t# yaw is initialized to -90.0 degrees since a yaw of 0.0 results in a direction vector pointing to the right so we initially rotate a bit to the left.\n",
    "pitch =  0.0\n",
    "lastX =  largura / 2.0\n",
    "lastY =  altura / 2.0\n",
    "fov   =  45.0\n",
    "\n",
    "# timing\n",
    "deltaTime = 0.0\t# time between current frame and last frame\n",
    "lastFrame = 0.0\n",
    "\n",
    "\n",
    "firstMouse = True\n",
    "yaw = -90.0 \n",
    "pitch = 0.0\n",
    "lastX =  largura/2\n",
    "lastY =  altura/2\n",
    "\n",
    "\n",
    "def key_event(window,key,scancode,action,mods):\n",
    "    global cameraPos, cameraFront, cameraUp\n",
    "\n",
    "    if key == glfw.KEY_ESCAPE and action == glfw.PRESS:\n",
    "        glfw.set_window_should_close(window, True)\n",
    "    \n",
    "    cameraSpeed = 1 * deltaTime\n",
    "    if key == glfw.KEY_W and (action == glfw.PRESS or action == glfw.REPEAT):\n",
    "        cameraPos += cameraSpeed * cameraFront\n",
    "    \n",
    "    if key == glfw.KEY_S and (action == glfw.PRESS or action == glfw.REPEAT):\n",
    "        cameraPos -= cameraSpeed * cameraFront\n",
    "    \n",
    "    if key == glfw.KEY_A and (action == glfw.PRESS or action == glfw.REPEAT):\n",
    "        cameraPos -= glm.normalize(glm.cross(cameraFront, cameraUp)) * cameraSpeed\n",
    "        \n",
    "    if key == glfw.KEY_D and (action == glfw.PRESS or action == glfw.REPEAT):\n",
    "        cameraPos += glm.normalize(glm.cross(cameraFront, cameraUp)) * cameraSpeed\n",
    "\n",
    "\n",
    "def framebuffer_size_callback(window, largura, altura):\n",
    "\n",
    "    # make sure the viewport matches the new window dimensions note that width and \n",
    "    # height will be significantly larger than specified on retina displays.\n",
    "    glViewport(0, 0, largura, altura)\n",
    "\n",
    "# glfw: whenever the mouse moves, this callback is called\n",
    "# -------------------------------------------------------\n",
    "def mouse_callback(window, xpos, ypos):\n",
    "    global cameraFront, lastX, lastY, firstMouse, yaw, pitch\n",
    "   \n",
    "    if (firstMouse):\n",
    "\n",
    "        lastX = xpos\n",
    "        lastY = ypos\n",
    "        firstMouse = False\n",
    "\n",
    "    xoffset = xpos - lastX\n",
    "    yoffset = lastY - ypos # reversed since y-coordinates go from bottom to top\n",
    "    lastX = xpos\n",
    "    lastY = ypos\n",
    "\n",
    "    sensitivity = 0.3 # change this value to your liking\n",
    "    xoffset *= sensitivity\n",
    "    yoffset *= sensitivity\n",
    "\n",
    "    yaw += xoffset\n",
    "    pitch += yoffset\n",
    "\n",
    "    # make sure that when pitch is out of bounds, screen doesn't get flipped\n",
    "    if (pitch > 89.0):\n",
    "        pitch = 89.0\n",
    "    if (pitch < -89.0):\n",
    "        pitch = -89.0\n",
    "\n",
    "    front = glm.vec3()\n",
    "    front.x = glm.cos(glm.radians(yaw)) * glm.cos(glm.radians(pitch))\n",
    "    front.y = glm.sin(glm.radians(pitch))\n",
    "    front.z = glm.sin(glm.radians(yaw)) * glm.cos(glm.radians(pitch))\n",
    "    cameraFront = glm.normalize(front)\n",
    "\n",
    "# glfw: whenever the mouse scroll wheel scrolls, this callback is called\n",
    "# ----------------------------------------------------------------------\n",
    "def scroll_callback(window, xoffset, yoffset):\n",
    "    global fov\n",
    "\n",
    "    fov -= yoffset\n",
    "    if (fov < 1.0):\n",
    "        fov = 1.0\n",
    "    if (fov > 45.0):\n",
    "        fov = 45.0\n",
    "    \n",
    "glfw.set_key_callback(window,key_event)\n",
    "glfw.set_framebuffer_size_callback(window, framebuffer_size_callback)\n",
    "glfw.set_cursor_pos_callback(window, mouse_callback)\n",
    "glfw.set_scroll_callback(window, scroll_callback)\n",
    "\n",
    "# tell GLFW to capture our mouse\n",
    "glfw.set_input_mode(window, glfw.CURSOR, glfw.CURSOR_DISABLED)"
   ]
  },
  {
   "cell_type": "markdown",
   "metadata": {},
   "source": [
    "### Matrizes Model, View e Projection\n",
    "\n",
    "Esses são os assuntos dessa e da próxima aula!"
   ]
  },
  {
   "cell_type": "markdown",
   "metadata": {},
   "source": [
    "#### Novidade: note que paramos de fazer a multiplicação de matrizes de forma explícita. Agora, usamos glm.\\<nomeTransformacao> (por ex, glm.translate ou glm.rotate)"
   ]
  },
  {
   "cell_type": "code",
   "execution_count": 8,
   "metadata": {},
   "outputs": [],
   "source": [
    "def model():\n",
    "    mat_model = glm.mat4(1.0) # matriz identidade (não aplica transformação!)\n",
    "    mat_model = np.array(mat_model)    \n",
    "    return mat_model\n",
    "\n",
    "def view():\n",
    "    global cameraPos, cameraFront, cameraUp\n",
    "    mat_view = glm.lookAt(cameraPos, cameraPos + cameraFront, cameraUp);\n",
    "    mat_view = np.array(mat_view)\n",
    "    return mat_view\n",
    "\n",
    "def projection():\n",
    "    global altura, largura\n",
    "    # perspective parameters: fov, aspect, near, far\n",
    "    mat_projection = glm.perspective(glm.radians(fov), largura/altura, 0.1, 100.0)\n",
    "    mat_projection = np.array(mat_projection)    \n",
    "    return mat_projection"
   ]
  },
  {
   "cell_type": "markdown",
   "metadata": {},
   "source": [
    "### Nesse momento, nós exibimos a janela!\n"
   ]
  },
  {
   "cell_type": "code",
   "execution_count": 9,
   "metadata": {},
   "outputs": [],
   "source": [
    "glfw.show_window(window)"
   ]
  },
  {
   "cell_type": "markdown",
   "metadata": {},
   "source": [
    "###  Vamos pegar a localização da variável color (uniform) do Fragment Shader para que possamos alterá-la em nosso laço da janela!"
   ]
  },
  {
   "cell_type": "code",
   "execution_count": 10,
   "metadata": {},
   "outputs": [],
   "source": [
    "loc_color = glGetUniformLocation(program, \"color\")"
   ]
  },
  {
   "cell_type": "markdown",
   "metadata": {},
   "source": [
    "### Loop principal da janela."
   ]
  },
  {
   "cell_type": "code",
   "execution_count": 11,
   "metadata": {},
   "outputs": [],
   "source": [
    "glEnable(GL_DEPTH_TEST) ### importante para 3D\n",
    "\n",
    "\n",
    "def desenha_cubo1():\n",
    "    # DESENHANDO O CUBO 1 (vértices de 0 até 23)\n",
    "    for i in range(0,24,4): # incremento de 4 em 4\n",
    "        R = (i+1)/24\n",
    "        G = (i+2)/24\n",
    "        B = (i+3)/24\n",
    "        glUniform4f(loc_color, R, G, B, 1.0) ### definindo uma cor qualquer com base no i\n",
    "        glDrawArrays(GL_TRIANGLE_STRIP, i, 4)\n",
    "    \n",
    "def desenha_cubo2():\n",
    "    # DESENHANDO O CUBO 2 (vértices de 24 até 47)\n",
    "    for i in range(24,48,4): # incremento de 4 em 4\n",
    "        R = (i+1)/48\n",
    "        G = (i+2)/48\n",
    "        B = (i+3)/48\n",
    "        glUniform4f(loc_color, R, G, B, 1.0) ### definindo uma cor qualquer com base no i\n",
    "        glDrawArrays(GL_TRIANGLE_STRIP, i, 4)\n",
    "\n",
    "\n",
    "while not glfw.window_should_close(window):\n",
    "\n",
    "    currentFrame = glfw.get_time()\n",
    "    deltaTime = currentFrame - lastFrame\n",
    "    lastFrame = currentFrame\n",
    "\n",
    "    glfw.poll_events() \n",
    "    \n",
    "    \n",
    "    glClear(GL_COLOR_BUFFER_BIT | GL_DEPTH_BUFFER_BIT)\n",
    "    \n",
    "    glClearColor(1.0, 1.0, 1.0, 1.0)\n",
    "    \n",
    "\n",
    "    # computando e enviando matrizes Model, View e Projection para a GPU\n",
    "    mat_model = model()\n",
    "    loc_model = glGetUniformLocation(program, \"model\")\n",
    "    glUniformMatrix4fv(loc_model, 1, GL_TRUE, mat_model)\n",
    "    \n",
    "    mat_view = view()\n",
    "    loc_view = glGetUniformLocation(program, \"view\")\n",
    "    glUniformMatrix4fv(loc_view, 1, GL_TRUE, mat_view)\n",
    "\n",
    "    mat_projection = projection()\n",
    "    loc_projection = glGetUniformLocation(program, \"projection\")\n",
    "    glUniformMatrix4fv(loc_projection, 1, GL_TRUE, mat_projection)    \n",
    "    \n",
    "\n",
    "    # desenhando objetos\n",
    "   \n",
    "    desenha_cubo1()\n",
    "    \n",
    "    desenha_cubo2()\n",
    "\n",
    "    \n",
    "    glfw.swap_buffers(window)\n",
    "\n",
    "glfw.terminate()"
   ]
  }
 ],
 "metadata": {
  "finalized": {
   "timestamp": 1583114796072,
   "trusted": true
  },
  "kernelspec": {
   "display_name": "Python 3",
   "language": "python",
   "name": "python3"
  },
  "language_info": {
   "codemirror_mode": {
    "name": "ipython",
    "version": 3
   },
   "file_extension": ".py",
   "mimetype": "text/x-python",
   "name": "python",
   "nbconvert_exporter": "python",
   "pygments_lexer": "ipython3",
   "version": "3.13.0"
  }
 },
 "nbformat": 4,
 "nbformat_minor": 4
}
